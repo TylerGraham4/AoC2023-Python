{
 "cells": [
  {
   "cell_type": "code",
   "execution_count": 1,
   "metadata": {},
   "outputs": [],
   "source": [
    "import csv\n",
    "import pandas as pd\n",
    "headers = ['Input']\n",
    "cal = pd.read_csv('input.txt', sep=\" \", names=headers, header=None)\n",
    "cal['Numbers'] = [0]*len(cal)\n",
    "cal.head()\n",
    "pd.set_option('display.max_colwidth', None)"
   ]
  },
  {
   "cell_type": "code",
   "execution_count": 2,
   "metadata": {},
   "outputs": [
    {
     "name": "stderr",
     "output_type": "stream",
     "text": [
      "<ipython-input-2-79350e0f1090>:14: FutureWarning: Setting an item of incompatible dtype is deprecated and will raise in a future error of pandas. Value '11' has dtype incompatible with int64, please explicitly cast to a compatible dtype first.\n",
      "  cal.at[index, 'Numbers'] = digit_string  # Assign the first digit to the new column\n"
     ]
    }
   ],
   "source": [
    "import re\n",
    "\n",
    "# Define a dictionary to map spelled out numbers to digits\n",
    "number_dict = {'one': '1', 'two': '2', 'three': '3', 'four': '4', 'five': '5', 'six': '6', 'seven': '7', 'eight': '8', 'nine': '9'}\n",
    "\n",
    "for index, row in cal.iterrows():\n",
    "    for item in row:\n",
    "        if isinstance(item, str):  # Check if the item is a string\n",
    "            # Sort the dictionary items by the length of the keys in descending order\n",
    "            for word, digit in sorted(number_dict.items(), key=lambda x: len(x[0]), reverse=True):\n",
    "                item = re.sub(word, digit, item)  # Replace each occurrence of the word with the digit\n",
    "            digit_string = re.sub('\\D', '', item)  # Remove any non-digit characters from the updated item string\n",
    "            if digit_string:  # If there are any digits\n",
    "                cal.at[index, 'Numbers'] = digit_string  # Assign the first digit to the new column"
   ]
  },
  {
   "cell_type": "code",
   "execution_count": 3,
   "metadata": {},
   "outputs": [
    {
     "data": {
      "text/html": [
       "<div>\n",
       "<style scoped>\n",
       "    .dataframe tbody tr th:only-of-type {\n",
       "        vertical-align: middle;\n",
       "    }\n",
       "\n",
       "    .dataframe tbody tr th {\n",
       "        vertical-align: top;\n",
       "    }\n",
       "\n",
       "    .dataframe thead th {\n",
       "        text-align: right;\n",
       "    }\n",
       "</style>\n",
       "<table border=\"1\" class=\"dataframe\">\n",
       "  <thead>\n",
       "    <tr style=\"text-align: right;\">\n",
       "      <th></th>\n",
       "      <th>Input</th>\n",
       "      <th>Numbers</th>\n",
       "    </tr>\n",
       "  </thead>\n",
       "  <tbody>\n",
       "    <tr>\n",
       "      <th>0</th>\n",
       "      <td>qzjggk1one</td>\n",
       "      <td>11</td>\n",
       "    </tr>\n",
       "    <tr>\n",
       "      <th>1</th>\n",
       "      <td>two2seven7</td>\n",
       "      <td>2277</td>\n",
       "    </tr>\n",
       "    <tr>\n",
       "      <th>2</th>\n",
       "      <td>vszthreetwo6threethree4two3</td>\n",
       "      <td>32633423</td>\n",
       "    </tr>\n",
       "    <tr>\n",
       "      <th>3</th>\n",
       "      <td>zcsvvlslqvfive11chhzmdjdgz8vbgldl</td>\n",
       "      <td>5118</td>\n",
       "    </tr>\n",
       "    <tr>\n",
       "      <th>4</th>\n",
       "      <td>jjsmsksvbr77cfdrdseven1zd</td>\n",
       "      <td>7771</td>\n",
       "    </tr>\n",
       "  </tbody>\n",
       "</table>\n",
       "</div>"
      ],
      "text/plain": [
       "                               Input   Numbers\n",
       "0                         qzjggk1one        11\n",
       "1                         two2seven7      2277\n",
       "2        vszthreetwo6threethree4two3  32633423\n",
       "3  zcsvvlslqvfive11chhzmdjdgz8vbgldl      5118\n",
       "4          jjsmsksvbr77cfdrdseven1zd      7771"
      ]
     },
     "execution_count": 3,
     "metadata": {},
     "output_type": "execute_result"
    }
   ],
   "source": [
    "cal.head()"
   ]
  },
  {
   "cell_type": "code",
   "execution_count": 4,
   "metadata": {},
   "outputs": [],
   "source": [
    "# Define a function to extract the first and last digits\n",
    "def extract_digits(number):\n",
    "    # Convert the number to a string\n",
    "    number_str = str(number)\n",
    "    # Return the first and last digits\n",
    "    return pd.Series([int(number_str[0]), int(number_str[-1])])\n",
    "\n",
    "# Apply the function to the \"Numbers\" column\n",
    "cal[['FirstDigit', 'LastDigit']] = cal['Numbers'].apply(extract_digits)"
   ]
  },
  {
   "cell_type": "code",
   "execution_count": 5,
   "metadata": {},
   "outputs": [],
   "source": [
    "# Define a function to extract the first and last digits\n",
    "def extract_digits(number):\n",
    "    # Convert the number to a string\n",
    "    number_str = str(number)\n",
    "    # Return the first and last digits concatenated\n",
    "    return int(number_str[0] + number_str[-1])\n",
    "\n",
    "# Apply the function to the \"Numbers\" column\n",
    "cal['FirstLastDigit'] = cal['Numbers'].apply(extract_digits)"
   ]
  },
  {
   "cell_type": "code",
   "execution_count": 6,
   "metadata": {},
   "outputs": [
    {
     "data": {
      "text/html": [
       "<div>\n",
       "<style scoped>\n",
       "    .dataframe tbody tr th:only-of-type {\n",
       "        vertical-align: middle;\n",
       "    }\n",
       "\n",
       "    .dataframe tbody tr th {\n",
       "        vertical-align: top;\n",
       "    }\n",
       "\n",
       "    .dataframe thead th {\n",
       "        text-align: right;\n",
       "    }\n",
       "</style>\n",
       "<table border=\"1\" class=\"dataframe\">\n",
       "  <thead>\n",
       "    <tr style=\"text-align: right;\">\n",
       "      <th></th>\n",
       "      <th>Input</th>\n",
       "      <th>Numbers</th>\n",
       "      <th>FirstDigit</th>\n",
       "      <th>LastDigit</th>\n",
       "      <th>FirstLastDigit</th>\n",
       "    </tr>\n",
       "  </thead>\n",
       "  <tbody>\n",
       "    <tr>\n",
       "      <th>0</th>\n",
       "      <td>qzjggk1one</td>\n",
       "      <td>11</td>\n",
       "      <td>1</td>\n",
       "      <td>1</td>\n",
       "      <td>11</td>\n",
       "    </tr>\n",
       "    <tr>\n",
       "      <th>1</th>\n",
       "      <td>two2seven7</td>\n",
       "      <td>2277</td>\n",
       "      <td>2</td>\n",
       "      <td>7</td>\n",
       "      <td>27</td>\n",
       "    </tr>\n",
       "    <tr>\n",
       "      <th>2</th>\n",
       "      <td>vszthreetwo6threethree4two3</td>\n",
       "      <td>32633423</td>\n",
       "      <td>3</td>\n",
       "      <td>3</td>\n",
       "      <td>33</td>\n",
       "    </tr>\n",
       "    <tr>\n",
       "      <th>3</th>\n",
       "      <td>zcsvvlslqvfive11chhzmdjdgz8vbgldl</td>\n",
       "      <td>5118</td>\n",
       "      <td>5</td>\n",
       "      <td>8</td>\n",
       "      <td>58</td>\n",
       "    </tr>\n",
       "    <tr>\n",
       "      <th>4</th>\n",
       "      <td>jjsmsksvbr77cfdrdseven1zd</td>\n",
       "      <td>7771</td>\n",
       "      <td>7</td>\n",
       "      <td>1</td>\n",
       "      <td>71</td>\n",
       "    </tr>\n",
       "    <tr>\n",
       "      <th>...</th>\n",
       "      <td>...</td>\n",
       "      <td>...</td>\n",
       "      <td>...</td>\n",
       "      <td>...</td>\n",
       "      <td>...</td>\n",
       "    </tr>\n",
       "    <tr>\n",
       "      <th>95</th>\n",
       "      <td>two7712two</td>\n",
       "      <td>277122</td>\n",
       "      <td>2</td>\n",
       "      <td>2</td>\n",
       "      <td>22</td>\n",
       "    </tr>\n",
       "    <tr>\n",
       "      <th>96</th>\n",
       "      <td>fdkbn4lhcfqcdjbfiveeight6</td>\n",
       "      <td>4586</td>\n",
       "      <td>4</td>\n",
       "      <td>6</td>\n",
       "      <td>46</td>\n",
       "    </tr>\n",
       "    <tr>\n",
       "      <th>97</th>\n",
       "      <td>foursjlrleight2five</td>\n",
       "      <td>4825</td>\n",
       "      <td>4</td>\n",
       "      <td>5</td>\n",
       "      <td>45</td>\n",
       "    </tr>\n",
       "    <tr>\n",
       "      <th>98</th>\n",
       "      <td>nzfmprckbcdvnzzj4xcpngq6</td>\n",
       "      <td>46</td>\n",
       "      <td>4</td>\n",
       "      <td>6</td>\n",
       "      <td>46</td>\n",
       "    </tr>\n",
       "    <tr>\n",
       "      <th>99</th>\n",
       "      <td>kczeightwo4fzshkzoneonesixfivegpnnrpsp</td>\n",
       "      <td>841165</td>\n",
       "      <td>8</td>\n",
       "      <td>5</td>\n",
       "      <td>85</td>\n",
       "    </tr>\n",
       "  </tbody>\n",
       "</table>\n",
       "<p>100 rows × 5 columns</p>\n",
       "</div>"
      ],
      "text/plain": [
       "                                     Input   Numbers  FirstDigit  LastDigit  \\\n",
       "0                               qzjggk1one        11           1          1   \n",
       "1                               two2seven7      2277           2          7   \n",
       "2              vszthreetwo6threethree4two3  32633423           3          3   \n",
       "3        zcsvvlslqvfive11chhzmdjdgz8vbgldl      5118           5          8   \n",
       "4                jjsmsksvbr77cfdrdseven1zd      7771           7          1   \n",
       "..                                     ...       ...         ...        ...   \n",
       "95                              two7712two    277122           2          2   \n",
       "96               fdkbn4lhcfqcdjbfiveeight6      4586           4          6   \n",
       "97                     foursjlrleight2five      4825           4          5   \n",
       "98                nzfmprckbcdvnzzj4xcpngq6        46           4          6   \n",
       "99  kczeightwo4fzshkzoneonesixfivegpnnrpsp    841165           8          5   \n",
       "\n",
       "    FirstLastDigit  \n",
       "0               11  \n",
       "1               27  \n",
       "2               33  \n",
       "3               58  \n",
       "4               71  \n",
       "..             ...  \n",
       "95              22  \n",
       "96              46  \n",
       "97              45  \n",
       "98              46  \n",
       "99              85  \n",
       "\n",
       "[100 rows x 5 columns]"
      ]
     },
     "execution_count": 6,
     "metadata": {},
     "output_type": "execute_result"
    }
   ],
   "source": [
    "cal.head(100)"
   ]
  },
  {
   "cell_type": "code",
   "execution_count": 7,
   "metadata": {},
   "outputs": [
    {
     "name": "stdout",
     "output_type": "stream",
     "text": [
      "55475\n"
     ]
    }
   ],
   "source": [
    "total = cal['FirstLastDigit'].sum()\n",
    "print(total)"
   ]
  },
  {
   "cell_type": "code",
   "execution_count": null,
   "metadata": {},
   "outputs": [],
   "source": []
  }
 ],
 "metadata": {
  "kernelspec": {
   "display_name": "Python 3",
   "language": "python",
   "name": "python3"
  },
  "language_info": {
   "codemirror_mode": {
    "name": "ipython",
    "version": 3
   },
   "file_extension": ".py",
   "mimetype": "text/x-python",
   "name": "python",
   "nbconvert_exporter": "python",
   "pygments_lexer": "ipython3",
   "version": "3.9.18"
  }
 },
 "nbformat": 4,
 "nbformat_minor": 2
}
